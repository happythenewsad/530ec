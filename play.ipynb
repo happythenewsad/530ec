{
 "cells": [
  {
   "cell_type": "code",
   "execution_count": 3,
   "metadata": {},
   "outputs": [],
   "source": [
    "import sys\n",
    "sys.path.insert(1, \".\")\n",
    "\n",
    "from Utils import Utils"
   ]
  },
  {
   "cell_type": "code",
   "execution_count": 4,
   "metadata": {},
   "outputs": [],
   "source": [
    "vocab = Utils.file_to_vocab(\"./data/en-train.txt\")\n",
    "\n",
    "\n"
   ]
  },
  {
   "cell_type": "code",
   "execution_count": 5,
   "metadata": {},
   "outputs": [],
   "source": [
    "# how many unique words are there in train?\n",
    "#19850\n",
    "# setwords = list(set(words))\n",
    "# for i in range(10):\n",
    "#     print(setwords[i])\n",
    "\n"
   ]
  },
  {
   "cell_type": "code",
   "execution_count": 11,
   "metadata": {},
   "outputs": [
    {
     "name": "stdout",
     "output_type": "stream",
     "text": [
      "0 3.5355339059327373\n",
      "100 3.9528470752104736\n",
      "200 2.357022603955159\n",
      "300 2.551551815399144\n",
      "400 4.225771273642583\n",
      "500 2.8603877677367775\n",
      "600 3.608439182435161\n",
      "700 2.7277236279499046\n",
      "800 1.1180339887498947\n",
      "900 2.721655269759087\n",
      "1000 1.666666666666667\n",
      "1100 4.008918628686366\n",
      "1200 4.008918628686366\n",
      "1300 3.333333333333334\n",
      "1400 0.0\n"
     ]
    }
   ],
   "source": [
    "from scipy import spatial\n",
    "\n",
    "with open(\"./data/en-val.txt\",'r') as f1:\n",
    "    val = f1.readlines()\n",
    "    \n",
    "results = []\n",
    "for idx, line in enumerate(val):\n",
    "    segments = line.split('\\t')\n",
    "    first_seg = segments[0].split()\n",
    "    second_seg = segments[1].split()\n",
    "    \n",
    "    first_seg_vec = Utils.bow_to_vec(vocab, set(first_seg))\n",
    "    second_seg_vec = Utils.bow_to_vec(vocab, set(second_seg))\n",
    "    result = (1 - spatial.distance.cosine(first_seg_vec, second_seg_vec)) * 5\n",
    "    results.append(result)\n",
    "    \n",
    "    if idx % 100 == 0:\n",
    "        print(idx, result)\n",
    "    \n",
    "    \n",
    "\n",
    "#[print(results[i]) for i in range(10)]\n"
   ]
  },
  {
   "cell_type": "code",
   "execution_count": 12,
   "metadata": {},
   "outputs": [],
   "source": [
    "with open('simple_baseline.txt', 'w') as f:      \n",
    "    for score in results:\n",
    "        f.write(\"{}\\n\".format(score)) "
   ]
  },
  {
   "cell_type": "code",
   "execution_count": 10,
   "metadata": {},
   "outputs": [
    {
     "data": {
      "text/plain": [
       "0.0"
      ]
     },
     "execution_count": 10,
     "metadata": {},
     "output_type": "execute_result"
    }
   ],
   "source": [
    "spatial.distance.cosine([1,1,1], [1,1,1])"
   ]
  },
  {
   "cell_type": "code",
   "execution_count": null,
   "metadata": {},
   "outputs": [],
   "source": []
  }
 ],
 "metadata": {
  "kernelspec": {
   "display_name": "Python 3",
   "language": "python",
   "name": "python3"
  },
  "language_info": {
   "codemirror_mode": {
    "name": "ipython",
    "version": 3
   },
   "file_extension": ".py",
   "mimetype": "text/x-python",
   "name": "python",
   "nbconvert_exporter": "python",
   "pygments_lexer": "ipython3",
   "version": "3.6.4"
  }
 },
 "nbformat": 4,
 "nbformat_minor": 2
}
